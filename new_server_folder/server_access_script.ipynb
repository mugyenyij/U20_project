{
 "cells": [
  {
   "cell_type": "code",
   "execution_count": 2,
   "metadata": {},
   "outputs": [],
   "source": [
    "# Import libraries and initialize global variables\n",
    "import utils\n",
    "import matplotlib.pyplot as plt\n",
    "import pandas as pd\n",
    "import numpy as np\n",
    "import matplotlib.dates as mdates\n",
    "Start_date = utils.date_range()[0]\n",
    "End_date = utils.date_range()[1]\n",
    "import datetime \n",
    "  \n",
    "def convert2hours(n): \n",
    "    return str(datetime.timedelta(seconds = n)) "
   ]
  },
  {
   "cell_type": "code",
   "execution_count": 3,
   "metadata": {},
   "outputs": [
    {
     "data": {
      "application/vnd.jupyter.widget-view+json": {
       "model_id": "14ea108c9f8f46048e853cf67d2719a9",
       "version_major": 2,
       "version_minor": 0
      },
      "text/plain": [
       "DatePicker(value=datetime.date(2020, 9, 22), description='Start Date')"
      ]
     },
     "metadata": {},
     "output_type": "display_data"
    }
   ],
   "source": [
    "# Pick start date\n",
    "Start_date"
   ]
  },
  {
   "cell_type": "code",
   "execution_count": 4,
   "metadata": {},
   "outputs": [
    {
     "data": {
      "application/vnd.jupyter.widget-view+json": {
       "model_id": "902837a852dd489691e1baaec70ac210",
       "version_major": 2,
       "version_minor": 0
      },
      "text/plain": [
       "DatePicker(value=datetime.datetime(2021, 5, 2, 11, 13, 2, 79567), description='End Date')"
      ]
     },
     "metadata": {},
     "output_type": "display_data"
    }
   ],
   "source": [
    "# Pick end date\n",
    "End_date"
   ]
  },
  {
   "cell_type": "code",
   "execution_count": 5,
   "metadata": {},
   "outputs": [
    {
     "name": "stdout",
     "output_type": "stream",
     "text": [
      "CPU times: user 477 ms, sys: 155 ms, total: 633 ms\n",
      "Wall time: 11.4 s\n"
     ]
    }
   ],
   "source": [
    "%%time\n",
    "# database response stored in pandas dataframe\n",
    "df = utils.db_connect(pem_file='newcentos.pem',\n",
    "                      start_date=Start_date.value.strftime(\"%Y-%m-%d\"),\n",
    "                      end_date=End_date.value.strftime(\"%Y-%m-%d\"))"
   ]
  },
  {
   "cell_type": "code",
   "execution_count": 7,
   "metadata": {},
   "outputs": [
    {
     "data": {
      "text/html": [
       "<div>\n",
       "<style scoped>\n",
       "    .dataframe tbody tr th:only-of-type {\n",
       "        vertical-align: middle;\n",
       "    }\n",
       "\n",
       "    .dataframe tbody tr th {\n",
       "        vertical-align: top;\n",
       "    }\n",
       "\n",
       "    .dataframe thead th {\n",
       "        text-align: right;\n",
       "    }\n",
       "</style>\n",
       "<table border=\"1\" class=\"dataframe\">\n",
       "  <thead>\n",
       "    <tr style=\"text-align: right;\">\n",
       "      <th></th>\n",
       "      <th>id</th>\n",
       "      <th>status</th>\n",
       "      <th>userid</th>\n",
       "      <th>timestamp</th>\n",
       "      <th>mac</th>\n",
       "      <th>current</th>\n",
       "      <th>voltage</th>\n",
       "      <th>power</th>\n",
       "      <th>devicestatus</th>\n",
       "      <th>device_deployed</th>\n",
       "    </tr>\n",
       "  </thead>\n",
       "  <tbody>\n",
       "    <tr>\n",
       "      <th>10519</th>\n",
       "      <td>504992</td>\n",
       "      <td>1</td>\n",
       "      <td>505</td>\n",
       "      <td>2021-05-02 16:12:32</td>\n",
       "      <td>84CCA89B799C</td>\n",
       "      <td>0.84</td>\n",
       "      <td>241</td>\n",
       "      <td>117.15</td>\n",
       "      <td>on</td>\n",
       "      <td>Yes</td>\n",
       "    </tr>\n",
       "    <tr>\n",
       "      <th>10520</th>\n",
       "      <td>504993</td>\n",
       "      <td>1</td>\n",
       "      <td>505</td>\n",
       "      <td>2021-05-02 16:12:39</td>\n",
       "      <td>84CCA89B799C</td>\n",
       "      <td>0.72</td>\n",
       "      <td>233</td>\n",
       "      <td>110.48</td>\n",
       "      <td>on</td>\n",
       "      <td>Yes</td>\n",
       "    </tr>\n",
       "    <tr>\n",
       "      <th>10521</th>\n",
       "      <td>504994</td>\n",
       "      <td>1</td>\n",
       "      <td>505</td>\n",
       "      <td>2021-05-02 16:12:51</td>\n",
       "      <td>84CCA89B799C</td>\n",
       "      <td>0.7</td>\n",
       "      <td>215</td>\n",
       "      <td>108.93</td>\n",
       "      <td>on</td>\n",
       "      <td>Yes</td>\n",
       "    </tr>\n",
       "    <tr>\n",
       "      <th>10522</th>\n",
       "      <td>504995</td>\n",
       "      <td>1</td>\n",
       "      <td>505</td>\n",
       "      <td>2021-05-02 16:13:30</td>\n",
       "      <td>84CCA89B799C</td>\n",
       "      <td>0.02</td>\n",
       "      <td>233</td>\n",
       "      <td>0.95</td>\n",
       "      <td>on</td>\n",
       "      <td>Yes</td>\n",
       "    </tr>\n",
       "    <tr>\n",
       "      <th>10523</th>\n",
       "      <td>504996</td>\n",
       "      <td>1</td>\n",
       "      <td>505</td>\n",
       "      <td>2021-05-02 16:13:36</td>\n",
       "      <td>84CCA89B799C</td>\n",
       "      <td>0.02</td>\n",
       "      <td>239</td>\n",
       "      <td>1.01</td>\n",
       "      <td>on</td>\n",
       "      <td>Yes</td>\n",
       "    </tr>\n",
       "  </tbody>\n",
       "</table>\n",
       "</div>"
      ],
      "text/plain": [
       "           id  status  userid           timestamp           mac current  \\\n",
       "10519  504992       1     505 2021-05-02 16:12:32  84CCA89B799C    0.84   \n",
       "10520  504993       1     505 2021-05-02 16:12:39  84CCA89B799C    0.72   \n",
       "10521  504994       1     505 2021-05-02 16:12:51  84CCA89B799C     0.7   \n",
       "10522  504995       1     505 2021-05-02 16:13:30  84CCA89B799C    0.02   \n",
       "10523  504996       1     505 2021-05-02 16:13:36  84CCA89B799C    0.02   \n",
       "\n",
       "      voltage   power devicestatus device_deployed  \n",
       "10519     241  117.15           on             Yes  \n",
       "10520     233  110.48           on             Yes  \n",
       "10521     215  108.93           on             Yes  \n",
       "10522     233    0.95           on             Yes  \n",
       "10523     239    1.01           on             Yes  "
      ]
     },
     "execution_count": 7,
     "metadata": {},
     "output_type": "execute_result"
    }
   ],
   "source": [
    "# Highlight deployed devices\n",
    "df['device_deployed'] = np.where(df['mac'].isin(['84CCA89A1706','84CCA899CEE53','CC50E304FA9A',\n",
    "                   '84CCA899FCA7','84CCA89B799C','CC50E3DA533F','84CCA89A48AF','84CCA899CEE2',\n",
    "                    '84CCA899F97E','84CCA899D15B','CC50E304FADC']), 'Yes', 'No')\n",
    "df.tail()"
   ]
  },
  {
   "cell_type": "code",
   "execution_count": 10,
   "metadata": {},
   "outputs": [
    {
     "data": {
      "text/plain": [
       "['CC50E3DA533F', '84CCA899CE69', '84CCA89B799C']"
      ]
     },
     "execution_count": 10,
     "metadata": {},
     "output_type": "execute_result"
    }
   ],
   "source": [
    "# plug monitors transmitting data after select_date\n",
    "select_date = '2021-05-01'\n",
    "df[df.timestamp > select_date].mac.unique().tolist()"
   ]
  },
  {
   "cell_type": "code",
   "execution_count": null,
   "metadata": {},
   "outputs": [],
   "source": [
    "# save file to csv\n",
    "path2savefile = '' # input file path including file name\n",
    "df.to_csv(path2savefile)"
   ]
  }
 ],
 "metadata": {
  "kernelspec": {
   "display_name": "u20-env",
   "language": "python",
   "name": "u20-env"
  },
  "language_info": {
   "codemirror_mode": {
    "name": "ipython",
    "version": 3
   },
   "file_extension": ".py",
   "mimetype": "text/x-python",
   "name": "python",
   "nbconvert_exporter": "python",
   "pygments_lexer": "ipython3",
   "version": "3.6.10"
  }
 },
 "nbformat": 4,
 "nbformat_minor": 2
}
