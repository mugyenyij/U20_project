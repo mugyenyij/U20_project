{
 "cells": [
  {
   "cell_type": "code",
   "execution_count": 1,
   "metadata": {},
   "outputs": [],
   "source": [
    "# Import libraries and initialize global variables\n",
    "import utils\n",
    "import matplotlib.pyplot as plt\n",
    "import pandas as pd\n",
    "import numpy as np\n",
    "import matplotlib.dates as mdates\n",
    "Start_date = utils.date_range()[0]\n",
    "End_date = utils.date_range()[1]\n",
    "import datetime \n",
    "  \n",
    "def convert2hours(n): \n",
    "    return str(datetime.timedelta(seconds = n)) "
   ]
  },
  {
   "cell_type": "code",
   "execution_count": 2,
   "metadata": {},
   "outputs": [
    {
     "data": {
      "application/vnd.jupyter.widget-view+json": {
       "model_id": "a21fee819fe24bfa991ad7e37fe26cb8",
       "version_major": 2,
       "version_minor": 0
      },
      "text/plain": [
       "DatePicker(value=datetime.date(2020, 9, 22), description='Start Date')"
      ]
     },
     "metadata": {},
     "output_type": "display_data"
    }
   ],
   "source": [
    "# Pick start date\n",
    "Start_date"
   ]
  },
  {
   "cell_type": "code",
   "execution_count": 3,
   "metadata": {},
   "outputs": [
    {
     "data": {
      "application/vnd.jupyter.widget-view+json": {
       "model_id": "339972ca7b574675b1a182d458026645",
       "version_major": 2,
       "version_minor": 0
      },
      "text/plain": [
       "DatePicker(value=datetime.datetime(2021, 2, 19, 12, 10, 25, 626555), description='End Date')"
      ]
     },
     "metadata": {},
     "output_type": "display_data"
    }
   ],
   "source": [
    "# Pick end date\n",
    "End_date"
   ]
  },
  {
   "cell_type": "code",
   "execution_count": 4,
   "metadata": {},
   "outputs": [
    {
     "name": "stdout",
     "output_type": "stream",
     "text": [
      "CPU times: user 13.6 s, sys: 4.06 s, total: 17.7 s\n",
      "Wall time: 39.4 s\n"
     ]
    }
   ],
   "source": [
    "%%time\n",
    "# database response stored in pandas dataframe\n",
    "df = utils.db_connect(pem_file='centos.pem',\n",
    "                      start_date=Start_date.value.strftime(\"%Y-%m-%d\"),\n",
    "                      end_date=End_date.value.strftime(\"%Y-%m-%d\"))"
   ]
  },
  {
   "cell_type": "code",
   "execution_count": null,
   "metadata": {},
   "outputs": [],
   "source": [
    "df['device_deployed'] = np.where(df['mac'].isin(['84CCA89A1706','84CCA899CEE53','CC50E304FA9A',\n",
    "                   '84CCA899FCA7','84CCA89B799C','CC50E3DA533F']), 'Yes', 'No')"
   ]
  },
  {
   "cell_type": "code",
   "execution_count": 19,
   "metadata": {
    "scrolled": true
   },
   "outputs": [
    {
     "data": {
      "text/html": [
       "<div>\n",
       "<style scoped>\n",
       "    .dataframe tbody tr th:only-of-type {\n",
       "        vertical-align: middle;\n",
       "    }\n",
       "\n",
       "    .dataframe tbody tr th {\n",
       "        vertical-align: top;\n",
       "    }\n",
       "\n",
       "    .dataframe thead th {\n",
       "        text-align: right;\n",
       "    }\n",
       "</style>\n",
       "<table border=\"1\" class=\"dataframe\">\n",
       "  <thead>\n",
       "    <tr style=\"text-align: right;\">\n",
       "      <th></th>\n",
       "      <th>id</th>\n",
       "      <th>status</th>\n",
       "      <th>userid</th>\n",
       "      <th>timestamp</th>\n",
       "      <th>mac</th>\n",
       "      <th>current</th>\n",
       "      <th>voltage</th>\n",
       "      <th>power</th>\n",
       "      <th>devicestatus</th>\n",
       "      <th>device_deployed</th>\n",
       "    </tr>\n",
       "  </thead>\n",
       "  <tbody>\n",
       "    <tr>\n",
       "      <th>408637</th>\n",
       "      <td>408638</td>\n",
       "      <td>1</td>\n",
       "      <td>505</td>\n",
       "      <td>2021-02-19 16:06:56</td>\n",
       "      <td>CC50E3DA533F</td>\n",
       "      <td>0.48</td>\n",
       "      <td>209</td>\n",
       "      <td>91.82</td>\n",
       "      <td>on</td>\n",
       "      <td>Yes</td>\n",
       "    </tr>\n",
       "    <tr>\n",
       "      <th>408638</th>\n",
       "      <td>408639</td>\n",
       "      <td>1</td>\n",
       "      <td>505</td>\n",
       "      <td>2021-02-19 16:07:26</td>\n",
       "      <td>CC50E3DA533F</td>\n",
       "      <td>0.48</td>\n",
       "      <td>206</td>\n",
       "      <td>91.18</td>\n",
       "      <td>on</td>\n",
       "      <td>Yes</td>\n",
       "    </tr>\n",
       "    <tr>\n",
       "      <th>408639</th>\n",
       "      <td>408640</td>\n",
       "      <td>1</td>\n",
       "      <td>505</td>\n",
       "      <td>2021-02-19 16:07:56</td>\n",
       "      <td>CC50E3DA533F</td>\n",
       "      <td>0.48</td>\n",
       "      <td>207</td>\n",
       "      <td>91.29</td>\n",
       "      <td>on</td>\n",
       "      <td>Yes</td>\n",
       "    </tr>\n",
       "    <tr>\n",
       "      <th>408640</th>\n",
       "      <td>408641</td>\n",
       "      <td>1</td>\n",
       "      <td>505</td>\n",
       "      <td>2021-02-19 16:08:27</td>\n",
       "      <td>CC50E3DA533F</td>\n",
       "      <td>0.48</td>\n",
       "      <td>210</td>\n",
       "      <td>91.59</td>\n",
       "      <td>on</td>\n",
       "      <td>Yes</td>\n",
       "    </tr>\n",
       "    <tr>\n",
       "      <th>408641</th>\n",
       "      <td>408642</td>\n",
       "      <td>1</td>\n",
       "      <td>505</td>\n",
       "      <td>2021-02-19 16:08:56</td>\n",
       "      <td>CC50E3DA533F</td>\n",
       "      <td>0.48</td>\n",
       "      <td>205</td>\n",
       "      <td>90.9</td>\n",
       "      <td>on</td>\n",
       "      <td>Yes</td>\n",
       "    </tr>\n",
       "  </tbody>\n",
       "</table>\n",
       "</div>"
      ],
      "text/plain": [
       "            id  status  userid           timestamp           mac current  \\\n",
       "408637  408638       1     505 2021-02-19 16:06:56  CC50E3DA533F    0.48   \n",
       "408638  408639       1     505 2021-02-19 16:07:26  CC50E3DA533F    0.48   \n",
       "408639  408640       1     505 2021-02-19 16:07:56  CC50E3DA533F    0.48   \n",
       "408640  408641       1     505 2021-02-19 16:08:27  CC50E3DA533F    0.48   \n",
       "408641  408642       1     505 2021-02-19 16:08:56  CC50E3DA533F    0.48   \n",
       "\n",
       "       voltage  power devicestatus device_deployed  \n",
       "408637     209  91.82           on             Yes  \n",
       "408638     206  91.18           on             Yes  \n",
       "408639     207  91.29           on             Yes  \n",
       "408640     210  91.59           on             Yes  \n",
       "408641     205   90.9           on             Yes  "
      ]
     },
     "execution_count": 19,
     "metadata": {},
     "output_type": "execute_result"
    }
   ],
   "source": [
    "# Filter out devices that are not deployed\n",
    "df['device_deployed'] = np.where(df['mac'].isin(['84CCA89A1706','84CCA899CEE53','CC50E304FA9A',\n",
    "                   '84CCA899FCA7','84CCA89B799C','CC50E3DA533F']), 'Yes', 'No')\n",
    "df = df[df.device_deployed=='Yes']\n",
    "df.tail()"
   ]
  },
  {
   "cell_type": "code",
   "execution_count": 22,
   "metadata": {},
   "outputs": [
    {
     "data": {
      "text/plain": [
       "array(['CC50E304FA9A', 'CC50E3DA533F', '84CCA89A1706', '84CCA89B799C',\n",
       "       '84CCA899FCA7'], dtype=object)"
      ]
     },
     "execution_count": 22,
     "metadata": {},
     "output_type": "execute_result"
    }
   ],
   "source": [
    "# Number of unique mac ids\n",
    "df.mac.unique()"
   ]
  },
  {
   "cell_type": "code",
   "execution_count": 23,
   "metadata": {},
   "outputs": [],
   "source": [
    "# Change column types to numeric\n",
    "df[[\"current\",\"voltage\", \"power\"]] = df[[\"current\",\"voltage\", \"power\"]].apply(pd.to_numeric)"
   ]
  },
  {
   "cell_type": "code",
   "execution_count": 25,
   "metadata": {},
   "outputs": [],
   "source": [
    "# Add date range filter\n",
    "start_date = '2020-12-05'\n",
    "end_date = '2020-12-06'\n",
    "date_mask = (df['timestamp'] > start_date ) & (df['timestamp'] <= end_date)\n",
    "df_with_mask = df.loc[date_mask]\n",
    "# Select a specific mac address\n",
    "df_mac1 = df_with_mask[df_with_mask['mac'].isin([\"CC50E3DA533F\"])]"
   ]
  },
  {
   "cell_type": "code",
   "execution_count": 26,
   "metadata": {},
   "outputs": [
    {
     "data": {
      "image/png": "[encoded data removed]",
      "text/plain": [
       "<Figure size 864x432 with 1 Axes>"
      ]
     },
     "metadata": {
      "needs_background": "light"
     },
     "output_type": "display_data"
    }
   ],
   "source": [
    "# Plot for Voltage vs Time CC50E3DA533F\n",
    "fig, ax = plt.subplots(1,1,figsize=(12,6))\n",
    "on = df_mac1[df_mac1['devicestatus']=='on']\n",
    "off = df_mac1[df_mac1['devicestatus']=='off']\n",
    "ax.plot(on[\"timestamp\"], on[\"voltage\"], 'b.-', lw=0.1, label='device on')\n",
    "ax.plot(off[\"timestamp\"], off[\"voltage\"], 'r.-', lw=0.1,label='device off')\n",
    "\n",
    "ax.set_title(f'Voltage vs Time \\'CC50E3DA533F\\' for {start_date}')\n",
    "ax.set_xlabel('time')\n",
    "ax.set_ylabel('Voltage')\n",
    "ax.legend()\n",
    "\n",
    "\n",
    "myFmt = mdates.DateFormatter('%H:%M') # format timestamp to Hour:Minute\n",
    "ax.xaxis.set_major_formatter(myFmt)\n",
    "plt.show()"
   ]
  },
  {
   "cell_type": "code",
   "execution_count": 30,
   "metadata": {},
   "outputs": [
    {
     "data": {
      "image/png": "[encoded data removed]",
      "text/plain": [
       "<Figure size 864x432 with 2 Axes>"
      ]
     },
     "metadata": {
      "needs_background": "light"
     },
     "output_type": "display_data"
    }
   ],
   "source": [
    "# Plot for Power vs Time CC50E3DA533F\n",
    "fig, ax = plt.subplots(1,1,figsize=(12,6))\n",
    "ax = fig.add_subplot(111)\n",
    "on = df_mac1[df_mac1['devicestatus']=='on']\n",
    "off = df_mac1[df_mac1['devicestatus']=='off']\n",
    "ax.plot(on[\"timestamp\"], on[\"power\"], 'b.-', lw=0.1, label='device on')\n",
    "ax.plot(off[\"timestamp\"], off[\"power\"], 'r.-', lw=0.1,label='device off')\n",
    "ax.set_title(f'Power vs Time \\'CC50E3DA533F\\' for {start_date}')\n",
    "ax.set_xlabel('time')\n",
    "ax.set_ylabel('Power')\n",
    "plt.legend()\n",
    "myFmt = mdates.DateFormatter('%H:%M') # format timestamp to Hour:Minute\n",
    "plt.gca().xaxis.set_major_formatter(myFmt)\n",
    "plt.show()"
   ]
  },
  {
   "cell_type": "code",
   "execution_count": 32,
   "metadata": {},
   "outputs": [],
   "source": [
    "## groupby mac addresses\n",
    "df_grouped_mac = df.copy()\n",
    "df_grouped_mac['date']= df_grouped_mac.timestamp.dt.date\n",
    "df_grouped_mac['date']= pd.to_datetime(df_grouped_mac['date'])\n",
    "df_grouped_mac['duration'] = df_grouped_mac.groupby(['mac', 'date'])['timestamp'].diff().dt.total_seconds().fillna(0)\n",
    "# if it takes more than a minute to record data, the duration is marked as no data received\n",
    "df_grouped_mac.loc[df_grouped_mac['duration'] >=60, 'devicestatus'] = 'no_data_received' # setting a timeout threshold"
   ]
  },
  {
   "cell_type": "code",
   "execution_count": 36,
   "metadata": {},
   "outputs": [
    {
     "data": {
      "text/html": [
       "<div>\n",
       "<style scoped>\n",
       "    .dataframe tbody tr th:only-of-type {\n",
       "        vertical-align: middle;\n",
       "    }\n",
       "\n",
       "    .dataframe tbody tr th {\n",
       "        vertical-align: top;\n",
       "    }\n",
       "\n",
       "    .dataframe thead th {\n",
       "        text-align: right;\n",
       "    }\n",
       "</style>\n",
       "<table border=\"1\" class=\"dataframe\">\n",
       "  <thead>\n",
       "    <tr style=\"text-align: right;\">\n",
       "      <th></th>\n",
       "      <th>mac</th>\n",
       "      <th>date</th>\n",
       "      <th>devicestatus</th>\n",
       "      <th>duration</th>\n",
       "      <th>duration_in_hours</th>\n",
       "    </tr>\n",
       "  </thead>\n",
       "  <tbody>\n",
       "    <tr>\n",
       "      <th>124</th>\n",
       "      <td>CC50E304FA9A</td>\n",
       "      <td>2020-09-23</td>\n",
       "      <td>no_data_received</td>\n",
       "      <td>3604.0</td>\n",
       "      <td>1:00:04</td>\n",
       "    </tr>\n",
       "    <tr>\n",
       "      <th>125</th>\n",
       "      <td>CC50E304FA9A</td>\n",
       "      <td>2020-09-23</td>\n",
       "      <td>on</td>\n",
       "      <td>40572.0</td>\n",
       "      <td>11:16:12</td>\n",
       "    </tr>\n",
       "    <tr>\n",
       "      <th>217</th>\n",
       "      <td>CC50E3DA533F</td>\n",
       "      <td>2020-09-23</td>\n",
       "      <td>no_data_received</td>\n",
       "      <td>5684.0</td>\n",
       "      <td>1:34:44</td>\n",
       "    </tr>\n",
       "    <tr>\n",
       "      <th>218</th>\n",
       "      <td>CC50E3DA533F</td>\n",
       "      <td>2020-09-23</td>\n",
       "      <td>off</td>\n",
       "      <td>238.0</td>\n",
       "      <td>0:03:58</td>\n",
       "    </tr>\n",
       "    <tr>\n",
       "      <th>219</th>\n",
       "      <td>CC50E3DA533F</td>\n",
       "      <td>2020-09-23</td>\n",
       "      <td>on</td>\n",
       "      <td>80441.0</td>\n",
       "      <td>22:20:41</td>\n",
       "    </tr>\n",
       "  </tbody>\n",
       "</table>\n",
       "</div>"
      ],
      "text/plain": [
       "              mac       date      devicestatus  duration duration_in_hours\n",
       "124  CC50E304FA9A 2020-09-23  no_data_received    3604.0           1:00:04\n",
       "125  CC50E304FA9A 2020-09-23                on   40572.0          11:16:12\n",
       "217  CC50E3DA533F 2020-09-23  no_data_received    5684.0           1:34:44\n",
       "218  CC50E3DA533F 2020-09-23               off     238.0           0:03:58\n",
       "219  CC50E3DA533F 2020-09-23                on   80441.0          22:20:41"
      ]
     },
     "execution_count": 36,
     "metadata": {},
     "output_type": "execute_result"
    }
   ],
   "source": [
    "## groupby mac addresses\n",
    "df_grouped_mac = df.copy()\n",
    "df_grouped_mac['date']= df_grouped_mac.timestamp.dt.date\n",
    "df_grouped_mac['date']= pd.to_datetime(df_grouped_mac['date'])\n",
    "df_grouped_mac['duration'] = df_grouped_mac.groupby(['mac', 'date'])['timestamp'].diff().dt.total_seconds().fillna(0)\n",
    "# if it takes more than a minute to record data, the duration is marked as no data received\n",
    "df_grouped_mac.loc[df_grouped_mac['duration'] >=60, 'devicestatus'] = 'no_data_received' # setting a timeout threshold\n",
    "\n",
    "## Apply filters\n",
    "mac_address = ['CC50E3DA533F','CC50E304FA9A'] # select these mac addresses\n",
    "date = ['2020-09-23'] # select these dates\n",
    "tmp = df_grouped_mac.groupby(['mac','date','devicestatus'])['duration'].sum().reset_index()\n",
    "tmp['duration_in_hours'] = tmp['duration'].apply(convert2hours)\n",
    "tmp[tmp['mac'].isin(mac_address) & tmp['date'].isin(date)]"
   ]
  },
  {
   "cell_type": "code",
   "execution_count": null,
   "metadata": {},
   "outputs": [],
   "source": []
  }
 ],
 "metadata": {
  "kernelspec": {
   "display_name": "u20-env",
   "language": "python",
   "name": "u20-env"
  },
  "language_info": {
   "codemirror_mode": {
    "name": "ipython",
    "version": 3
   },
   "file_extension": ".py",
   "mimetype": "text/x-python",
   "name": "python",
   "nbconvert_exporter": "python",
   "pygments_lexer": "ipython3",
   "version": "3.6.10"
  }
 },
 "nbformat": 4,
 "nbformat_minor": 4
}
