{
 "cells": [
  {
   "cell_type": "code",
   "execution_count": 1,
   "metadata": {},
   "outputs": [],
   "source": [
    "# Import libraries and initialize global variables\n",
    "import utils\n",
    "Start_date = utils.date_range()[0]\n",
    "End_date = utils.date_range()[1]"
   ]
  },
  {
   "cell_type": "code",
   "execution_count": 2,
   "metadata": {},
   "outputs": [
    {
     "data": {
      "application/vnd.jupyter.widget-view+json": {
       "model_id": "8335b426845548c4b643e55f3067d7a1",
       "version_major": 2,
       "version_minor": 0
      },
      "text/plain": [
       "DatePicker(value=datetime.date(2020, 9, 22), description='Start Date')"
      ]
     },
     "metadata": {},
     "output_type": "display_data"
    }
   ],
   "source": [
    "# Pick start date\n",
    "Start_date"
   ]
  },
  {
   "cell_type": "code",
   "execution_count": 3,
   "metadata": {},
   "outputs": [
    {
     "data": {
      "application/vnd.jupyter.widget-view+json": {
       "model_id": "6ed0c54c58f24c96b6bd7e47117e677b",
       "version_major": 2,
       "version_minor": 0
      },
      "text/plain": [
       "DatePicker(value=datetime.datetime(2020, 12, 11, 13, 47, 13, 336805), description='End Date')"
      ]
     },
     "metadata": {},
     "output_type": "display_data"
    }
   ],
   "source": [
    "# Pick end date\n",
    "End_date"
   ]
  },
  {
   "cell_type": "code",
   "execution_count": 4,
   "metadata": {},
   "outputs": [],
   "source": [
    "# database response stored in pandas dataframe\n",
    "df = utils.db_connect(pem_file='centos.pem',\n",
    "                      start_date=Start_date.value.strftime(\"%Y-%m-%d\"),\n",
    "                      end_date=End_date.value.strftime(\"%Y-%m-%d\"))"
   ]
  },
  {
   "cell_type": "code",
   "execution_count": 5,
   "metadata": {},
   "outputs": [
    {
     "data": {
      "text/html": [
       "<div>\n",
       "<style scoped>\n",
       "    .dataframe tbody tr th:only-of-type {\n",
       "        vertical-align: middle;\n",
       "    }\n",
       "\n",
       "    .dataframe tbody tr th {\n",
       "        vertical-align: top;\n",
       "    }\n",
       "\n",
       "    .dataframe thead th {\n",
       "        text-align: right;\n",
       "    }\n",
       "</style>\n",
       "<table border=\"1\" class=\"dataframe\">\n",
       "  <thead>\n",
       "    <tr style=\"text-align: right;\">\n",
       "      <th></th>\n",
       "      <th>id</th>\n",
       "      <th>status</th>\n",
       "      <th>userid</th>\n",
       "      <th>timestamp</th>\n",
       "      <th>mac</th>\n",
       "      <th>current</th>\n",
       "      <th>voltage</th>\n",
       "      <th>power</th>\n",
       "      <th>devicestatus</th>\n",
       "    </tr>\n",
       "  </thead>\n",
       "  <tbody>\n",
       "    <tr>\n",
       "      <th>0</th>\n",
       "      <td>145572</td>\n",
       "      <td>1</td>\n",
       "      <td>505</td>\n",
       "      <td>2020-10-15 00:00:20</td>\n",
       "      <td>CC50E3DA533F</td>\n",
       "      <td>0.65</td>\n",
       "      <td>211</td>\n",
       "      <td>77.48</td>\n",
       "      <td>on</td>\n",
       "    </tr>\n",
       "    <tr>\n",
       "      <th>1</th>\n",
       "      <td>145573</td>\n",
       "      <td>1</td>\n",
       "      <td>505</td>\n",
       "      <td>2020-10-15 00:00:49</td>\n",
       "      <td>CC50E3DA533F</td>\n",
       "      <td>0.65</td>\n",
       "      <td>211</td>\n",
       "      <td>77.68</td>\n",
       "      <td>on</td>\n",
       "    </tr>\n",
       "    <tr>\n",
       "      <th>2</th>\n",
       "      <td>145574</td>\n",
       "      <td>1</td>\n",
       "      <td>505</td>\n",
       "      <td>2020-10-15 00:01:20</td>\n",
       "      <td>CC50E3DA533F</td>\n",
       "      <td>0.64</td>\n",
       "      <td>211</td>\n",
       "      <td>77.65</td>\n",
       "      <td>on</td>\n",
       "    </tr>\n",
       "    <tr>\n",
       "      <th>3</th>\n",
       "      <td>145575</td>\n",
       "      <td>1</td>\n",
       "      <td>505</td>\n",
       "      <td>2020-10-15 00:01:50</td>\n",
       "      <td>CC50E3DA533F</td>\n",
       "      <td>0.64</td>\n",
       "      <td>211</td>\n",
       "      <td>77.98</td>\n",
       "      <td>on</td>\n",
       "    </tr>\n",
       "    <tr>\n",
       "      <th>4</th>\n",
       "      <td>145576</td>\n",
       "      <td>1</td>\n",
       "      <td>505</td>\n",
       "      <td>2020-10-15 00:02:21</td>\n",
       "      <td>CC50E3DA533F</td>\n",
       "      <td>0.64</td>\n",
       "      <td>210</td>\n",
       "      <td>76.82</td>\n",
       "      <td>on</td>\n",
       "    </tr>\n",
       "  </tbody>\n",
       "</table>\n",
       "</div>"
      ],
      "text/plain": [
       "       id  status  userid           timestamp           mac current voltage  \\\n",
       "0  145572       1     505 2020-10-15 00:00:20  CC50E3DA533F    0.65     211   \n",
       "1  145573       1     505 2020-10-15 00:00:49  CC50E3DA533F    0.65     211   \n",
       "2  145574       1     505 2020-10-15 00:01:20  CC50E3DA533F    0.64     211   \n",
       "3  145575       1     505 2020-10-15 00:01:50  CC50E3DA533F    0.64     211   \n",
       "4  145576       1     505 2020-10-15 00:02:21  CC50E3DA533F    0.64     210   \n",
       "\n",
       "   power devicestatus  \n",
       "0  77.48           on  \n",
       "1  77.68           on  \n",
       "2  77.65           on  \n",
       "3  77.98           on  \n",
       "4  76.82           on  "
      ]
     },
     "execution_count": 5,
     "metadata": {},
     "output_type": "execute_result"
    }
   ],
   "source": [
    "df.head()"
   ]
  },
  {
   "cell_type": "code",
   "execution_count": 6,
   "metadata": {},
   "outputs": [
    {
     "data": {
      "text/plain": [
       "227639"
      ]
     },
     "execution_count": 6,
     "metadata": {},
     "output_type": "execute_result"
    }
   ],
   "source": [
    "len(df)"
   ]
  },
  {
   "cell_type": "code",
   "execution_count": null,
   "metadata": {},
   "outputs": [],
   "source": []
  }
 ],
 "metadata": {
  "kernelspec": {
   "display_name": "u20-env",
   "language": "python",
   "name": "u20-env"
  },
  "language_info": {
   "codemirror_mode": {
    "name": "ipython",
    "version": 3
   },
   "file_extension": ".py",
   "mimetype": "text/x-python",
   "name": "python",
   "nbconvert_exporter": "python",
   "pygments_lexer": "ipython3",
   "version": "3.6.10"
  }
 },
 "nbformat": 4,
 "nbformat_minor": 4
}
